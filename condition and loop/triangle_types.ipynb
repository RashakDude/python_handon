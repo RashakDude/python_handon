{
 "cells": [
  {
   "cell_type": "code",
   "execution_count": 2,
   "metadata": {},
   "outputs": [
    {
     "name": "stdout",
     "output_type": "stream",
     "text": [
      "Enter the length of first side 5\n",
      "Enter the length of second side 5\n",
      "Enter the length of third side 5\n",
      "This is an equilateral triangle\n"
     ]
    }
   ],
   "source": [
    "# Write a Python program to check a triangle is equilateral, isosceles or scalene.\n",
    "# Note :\n",
    "# An equilateral triangle is a triangle in which all three sides are equal.\n",
    "# A scalene triangle is a triangle that has three unequal sides.\n",
    "# An isosceles triangle is a triangle with (at least) two equal sides.\n",
    "\n",
    "s1 = input('Enter the length of first side ')\n",
    "s2 = input('Enter the length of second side ')\n",
    "s3 = input('Enter the length of third side ')\n",
    "\n",
    "if s1 == s2 and s2 == s3 :\n",
    "    print('This is an equilateral triangle')\n",
    "elif s1 == s2 or s2 == s3 or s3 == s1:\n",
    "    print('This is an isosceles triangle')\n",
    "else:\n",
    "    print('This is a scalene triangle')"
   ]
  },
  {
   "cell_type": "code",
   "execution_count": null,
   "metadata": {},
   "outputs": [],
   "source": []
  }
 ],
 "metadata": {
  "kernelspec": {
   "display_name": "Python 3",
   "language": "python",
   "name": "python3"
  },
  "language_info": {
   "codemirror_mode": {
    "name": "ipython",
    "version": 3
   },
   "file_extension": ".py",
   "mimetype": "text/x-python",
   "name": "python",
   "nbconvert_exporter": "python",
   "pygments_lexer": "ipython3",
   "version": "3.7.4"
  }
 },
 "nbformat": 4,
 "nbformat_minor": 2
}
