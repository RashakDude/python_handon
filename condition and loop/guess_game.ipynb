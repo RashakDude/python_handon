{
 "cells": [
  {
   "cell_type": "code",
   "execution_count": 2,
   "metadata": {},
   "outputs": [
    {
     "name": "stdout",
     "output_type": "stream",
     "text": [
      "Choose a number between 1 and 95\n",
      "Your guess is too low\n"
     ]
    }
   ],
   "source": [
    "# Generate a random number between 1 and 9 (including 1 and 9).\n",
    "# Ask the user to guess the number, then tell them whether they guessed too low, too high, or exactly right. \n",
    "\n",
    "import random\n",
    "x = random.randint(1,9)\n",
    "\n",
    "a = int(input('Choose a number between 1 and 9'))\n",
    "\n",
    "if x>a and a<10:\n",
    "    print('Your guess is too low')\n",
    "elif x<a and a<10:\n",
    "    print('Your guess os too high')\n",
    "elif x==a:\n",
    "    print('You guessed the correct number')\n",
    "else:\n",
    "    print('The number entered does not seems to be between 1 and 9')"
   ]
  },
  {
   "cell_type": "code",
   "execution_count": null,
   "metadata": {},
   "outputs": [],
   "source": []
  },
  {
   "cell_type": "code",
   "execution_count": null,
   "metadata": {},
   "outputs": [],
   "source": []
  }
 ],
 "metadata": {
  "kernelspec": {
   "display_name": "Python 3",
   "language": "python",
   "name": "python3"
  },
  "language_info": {
   "codemirror_mode": {
    "name": "ipython",
    "version": 3
   },
   "file_extension": ".py",
   "mimetype": "text/x-python",
   "name": "python",
   "nbconvert_exporter": "python",
   "pygments_lexer": "ipython3",
   "version": "3.7.4"
  }
 },
 "nbformat": 4,
 "nbformat_minor": 2
}
