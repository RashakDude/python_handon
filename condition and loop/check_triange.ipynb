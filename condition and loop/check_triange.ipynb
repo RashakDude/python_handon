{
 "cells": [
  {
   "cell_type": "code",
   "execution_count": 2,
   "metadata": {},
   "outputs": [
    {
     "name": "stdout",
     "output_type": "stream",
     "text": [
      "Enter length of first side - 5\n",
      "Enter length of second side - 2\n",
      "Enter length of third side - 2\n",
      "This is not a valid triangle\n"
     ]
    }
   ],
   "source": [
    "# ---------------------------------------------------------------\n",
    "# python best courses https://courses.tanpham.org/\n",
    "# ---------------------------------------------------------------\n",
    "# Write a Python program to check a triangle is valid or not\n",
    "\n",
    "side1 = input('Enter length of first side - ')\n",
    "side2 = input('Enter length of second side - ')\n",
    "side3 = input('Enter length of third side - ')\n",
    "\n",
    "if (side1>(side2+side3)) or (side2>(side1+side3)) or (side3>(side2+side1)):\n",
    "    print('This is not a valid triangle')\n",
    "else:\n",
    "    print('This can form a triangle')"
   ]
  },
  {
   "cell_type": "code",
   "execution_count": null,
   "metadata": {},
   "outputs": [],
   "source": []
  },
  {
   "cell_type": "code",
   "execution_count": null,
   "metadata": {},
   "outputs": [],
   "source": []
  },
  {
   "cell_type": "code",
   "execution_count": null,
   "metadata": {},
   "outputs": [],
   "source": []
  }
 ],
 "metadata": {
  "kernelspec": {
   "display_name": "Python 3",
   "language": "python",
   "name": "python3"
  },
  "language_info": {
   "codemirror_mode": {
    "name": "ipython",
    "version": 3
   },
   "file_extension": ".py",
   "mimetype": "text/x-python",
   "name": "python",
   "nbconvert_exporter": "python",
   "pygments_lexer": "ipython3",
   "version": "3.7.4"
  }
 },
 "nbformat": 4,
 "nbformat_minor": 2
}
