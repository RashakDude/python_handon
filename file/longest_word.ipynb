{
 "cells": [
  {
   "cell_type": "code",
   "execution_count": 2,
   "metadata": {},
   "outputs": [
    {
     "name": "stdout",
     "output_type": "stream",
     "text": [
      "16 is the length of the longest word\n",
      "['general-purpose,', 'object-oriented,'] is/are the words\n"
     ]
    }
   ],
   "source": [
    "# Write a python program to find the longest words in a file\n",
    "# Using test.txt file in same folder\n",
    "\n",
    "with open('test.txt','r') as f:\n",
    "    words = f.read().split()\n",
    "max_len = len(max(words, key=len))\n",
    "print(max_len,'is the length of the longest word.')\n",
    "print([word for word in words if len(word) == max_len],'is/are the words.')"
   ]
  },
  {
   "cell_type": "code",
   "execution_count": null,
   "metadata": {},
   "outputs": [],
   "source": []
  }
 ],
 "metadata": {
  "kernelspec": {
   "display_name": "Python 3",
   "language": "python",
   "name": "python3"
  },
  "language_info": {
   "codemirror_mode": {
    "name": "ipython",
    "version": 3
   },
   "file_extension": ".py",
   "mimetype": "text/x-python",
   "name": "python",
   "nbconvert_exporter": "python",
   "pygments_lexer": "ipython3",
   "version": "3.7.4"
  }
 },
 "nbformat": 4,
 "nbformat_minor": 2
}
