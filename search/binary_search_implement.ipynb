{
 "cells": [
  {
   "cell_type": "code",
   "execution_count": 4,
   "metadata": {},
   "outputs": [
    {
     "name": "stdout",
     "output_type": "stream",
     "text": [
      "False\n",
      "True\n"
     ]
    }
   ],
   "source": [
    "# Write a Python program for binary search. \n",
    "# Binary Search : In computer science, a binary search or half-interval search algorithm finds the position of a target value\n",
    "# within a sorted array. The binary search algorithm can be classified as a dichotomies divide-and-conquer search algorithm and \n",
    "# executes in logarithmic time.\n",
    "\n",
    "def binary_search(item_list,item):\n",
    "    first = 0\n",
    "    last = len(item_list)-1\n",
    "    found = False\n",
    "    while( first<=last and not found):\n",
    "        mid = (first + last)//2\n",
    "        if item_list[mid] == item :\n",
    "            found = True\n",
    "        else:\n",
    "            if item < item_list[mid]:\n",
    "                last = mid - 1\n",
    "            else:\n",
    "                first = mid + 1\t\n",
    "    return found\n",
    "    \n",
    "print(binary_search([1,2,3,5,8], 6))\n",
    "print(binary_search([1,2,3,5,8], 5))"
   ]
  },
  {
   "cell_type": "code",
   "execution_count": null,
   "metadata": {},
   "outputs": [],
   "source": []
  }
 ],
 "metadata": {
  "kernelspec": {
   "display_name": "Python 3",
   "language": "python",
   "name": "python3"
  },
  "language_info": {
   "codemirror_mode": {
    "name": "ipython",
    "version": 3
   },
   "file_extension": ".py",
   "mimetype": "text/x-python",
   "name": "python",
   "nbconvert_exporter": "python",
   "pygments_lexer": "ipython3",
   "version": "3.7.4"
  }
 },
 "nbformat": 4,
 "nbformat_minor": 2
}
