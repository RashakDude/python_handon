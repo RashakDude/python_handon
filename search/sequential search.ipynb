{
 "cells": [
  {
   "cell_type": "code",
   "execution_count": 1,
   "metadata": {},
   "outputs": [
    {
     "name": "stdout",
     "output_type": "stream",
     "text": [
      "True 4\n"
     ]
    }
   ],
   "source": [
    "# Write a Python program for sequential search.\n",
    "# Sequential Search: In computer science, linear search or sequential search is a method for finding a particular value in a list\n",
    "# that checks each element in sequence until the desired element is found or the list is exhausted. The list need not be ordered.\n",
    "\n",
    "dlist = [11,22,33,44,55,66,77,88,99,110]\n",
    "number = 55\n",
    "\n",
    "pos = 0\n",
    "found = False\n",
    "\n",
    "while pos<len(dlist) and not found:\n",
    "    if dlist[pos] == number:\n",
    "        found = True\n",
    "    else:\n",
    "        pos += 1\n",
    "\n",
    "print(found,pos)"
   ]
  },
  {
   "cell_type": "code",
   "execution_count": null,
   "metadata": {},
   "outputs": [],
   "source": []
  },
  {
   "cell_type": "code",
   "execution_count": null,
   "metadata": {},
   "outputs": [],
   "source": []
  }
 ],
 "metadata": {
  "kernelspec": {
   "display_name": "Python 3",
   "language": "python",
   "name": "python3"
  },
  "language_info": {
   "codemirror_mode": {
    "name": "ipython",
    "version": 3
   },
   "file_extension": ".py",
   "mimetype": "text/x-python",
   "name": "python",
   "nbconvert_exporter": "python",
   "pygments_lexer": "ipython3",
   "version": "3.7.4"
  }
 },
 "nbformat": 4,
 "nbformat_minor": 2
}
