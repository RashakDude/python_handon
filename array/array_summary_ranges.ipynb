{
 "cells": [
  {
   "cell_type": "code",
   "execution_count": 1,
   "metadata": {},
   "outputs": [
    {
     "name": "stdout",
     "output_type": "stream",
     "text": [
      "['0-->2', '4-->5', '7']\n"
     ]
    }
   ],
   "source": [
    "# Given a sorted integer array without duplicates,\n",
    "# return the summary of its ranges.\n",
    "# For example, given [0,1,2,4,5,7], return [\"0->2\",\"4->5\",\"7\"].\n",
    "\n",
    "input_array = [0,1,2,4,5,7]\n",
    "start=0\n",
    "result = []\n",
    "\n",
    "while start < len(input_array):     \n",
    "    end = start\n",
    "    \n",
    "    while end+1<len(input_array) and ((input_array[end+1] - input_array[end]) == 1):\n",
    "        end = end + 1\n",
    "        \n",
    "    if end!=start:\n",
    "        result.append(\"{0}-->{1}\".format(input_array[start], input_array[end]))\n",
    "    else:\n",
    "        result.append(\"{0}\".format(input_array[start]))\n",
    "        \n",
    "    start = end+1\n",
    "\n",
    "print(result)"
   ]
  },
  {
   "cell_type": "code",
   "execution_count": null,
   "metadata": {},
   "outputs": [],
   "source": []
  }
 ],
 "metadata": {
  "kernelspec": {
   "display_name": "Python 3",
   "language": "python",
   "name": "python3"
  },
  "language_info": {
   "codemirror_mode": {
    "name": "ipython",
    "version": 3
   },
   "file_extension": ".py",
   "mimetype": "text/x-python",
   "name": "python",
   "nbconvert_exporter": "python",
   "pygments_lexer": "ipython3",
   "version": "3.7.4"
  }
 },
 "nbformat": 4,
 "nbformat_minor": 2
}
