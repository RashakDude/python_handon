{
 "cells": [
  {
   "cell_type": "code",
   "execution_count": 1,
   "metadata": {},
   "outputs": [
    {
     "name": "stdout",
     "output_type": "stream",
     "text": [
      "a) Current date and time:  2019-11-15 21:16:44.016348\n",
      "b) Current year:  2019\n",
      "c) Month of year:  November\n",
      "d) Week number of the year:  45\n",
      "e) Weekday of the week:  5\n",
      "f) Day of year:  319\n",
      "g) Day of the month :  15\n",
      "h) Day of week:  Friday\n"
     ]
    }
   ],
   "source": [
    "# Write a Python script to display the various Date Time formats.\n",
    "\n",
    "# a) Current date and time\n",
    "# b) Current year\n",
    "# c) Month of year\n",
    "# d) Week number of the year\n",
    "# e) Weekday of the week\n",
    "# f) Day of year\n",
    "# g) Day of the month\n",
    "# h) Day of week\n",
    "\n",
    "import time\n",
    "import datetime\n",
    "print(\"a) Current date and time: \" , datetime.datetime.now())\n",
    "print(\"b) Current year: \", datetime.date.today().strftime(\"%Y\"))\n",
    "print(\"c) Month of year: \", datetime.date.today().strftime(\"%B\"))\n",
    "print(\"d) Week number of the year: \", datetime.date.today().strftime(\"%W\"))\n",
    "print(\"e) Weekday of the week: \", datetime.date.today().strftime(\"%w\"))\n",
    "print(\"f) Day of year: \", datetime.date.today().strftime(\"%j\"))\n",
    "print(\"g) Day of the month : \", datetime.date.today().strftime(\"%d\"))\n",
    "print(\"h) Day of week: \", datetime.date.today().strftime(\"%A\"))"
   ]
  },
  {
   "cell_type": "code",
   "execution_count": null,
   "metadata": {},
   "outputs": [],
   "source": []
  },
  {
   "cell_type": "code",
   "execution_count": null,
   "metadata": {},
   "outputs": [],
   "source": []
  }
 ],
 "metadata": {
  "kernelspec": {
   "display_name": "Python 3",
   "language": "python",
   "name": "python3"
  },
  "language_info": {
   "codemirror_mode": {
    "name": "ipython",
    "version": 3
   },
   "file_extension": ".py",
   "mimetype": "text/x-python",
   "name": "python",
   "nbconvert_exporter": "python",
   "pygments_lexer": "ipython3",
   "version": "3.7.4"
  }
 },
 "nbformat": 4,
 "nbformat_minor": 2
}
