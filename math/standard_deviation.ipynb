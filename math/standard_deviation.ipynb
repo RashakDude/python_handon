{
 "cells": [
  {
   "cell_type": "code",
   "execution_count": 14,
   "metadata": {},
   "outputs": [
    {
     "name": "stdout",
     "output_type": "stream",
     "text": [
      "2.23606797749979\n"
     ]
    }
   ],
   "source": [
    "# Write a Python program to calculate the standard deviation of the following data.\n",
    "# Input\n",
    "# Sample Data:  [4, 2, 5, 8, 6]                                                                                 \n",
    "# Output\n",
    "# Standard Deviation :  2.23606797749979\n",
    "\n",
    "import math\n",
    "\n",
    "data = [4,2,5,8,6]\n",
    "\n",
    "sum1 = 0\n",
    "for i in range(len(data)):\n",
    "    sum1 += data[i]\n",
    "sum1 /= len(data)\n",
    "\n",
    "for i in range(len(data)):\n",
    "    data[i] -= sum1\n",
    "    data[i] = pow(data[i],2)\n",
    "\n",
    "sum = 0\n",
    "for i in range(len(data)):\n",
    "    sum += data[i]\n",
    "sum /= (len(data)-1)\n",
    "\n",
    "print(float(math.sqrt(sum)))"
   ]
  },
  {
   "cell_type": "code",
   "execution_count": null,
   "metadata": {},
   "outputs": [],
   "source": []
  }
 ],
 "metadata": {
  "kernelspec": {
   "display_name": "Python 3",
   "language": "python",
   "name": "python3"
  },
  "language_info": {
   "codemirror_mode": {
    "name": "ipython",
    "version": 3
   },
   "file_extension": ".py",
   "mimetype": "text/x-python",
   "name": "python",
   "nbconvert_exporter": "python",
   "pygments_lexer": "ipython3",
   "version": "3.7.4"
  }
 },
 "nbformat": 4,
 "nbformat_minor": 2
}
