{
 "cells": [
  {
   "cell_type": "code",
   "execution_count": 3,
   "metadata": {},
   "outputs": [
    {
     "name": "stdout",
     "output_type": "stream",
     "text": [
      "Heads :  490\n",
      "Tails :  510\n"
     ]
    }
   ],
   "source": [
    "# Write a Python program to flip a coin 1000 times and count heads and tails.\n",
    "\n",
    "import random\n",
    "import itertools\n",
    "\n",
    "result = {'heads':0,'tails':0}\n",
    "side = list(result.keys())\n",
    "\n",
    "for i in range(1000):\n",
    "    result[random.choice(side)] += 1 \n",
    "\n",
    "print('Heads : ',result['heads'])\n",
    "print('Tails : ',result['tails'])"
   ]
  },
  {
   "cell_type": "code",
   "execution_count": null,
   "metadata": {},
   "outputs": [],
   "source": []
  }
 ],
 "metadata": {
  "kernelspec": {
   "display_name": "Python 3",
   "language": "python",
   "name": "python3"
  },
  "language_info": {
   "codemirror_mode": {
    "name": "ipython",
    "version": 3
   },
   "file_extension": ".py",
   "mimetype": "text/x-python",
   "name": "python",
   "nbconvert_exporter": "python",
   "pygments_lexer": "ipython3",
   "version": "3.7.4"
  }
 },
 "nbformat": 4,
 "nbformat_minor": 2
}
