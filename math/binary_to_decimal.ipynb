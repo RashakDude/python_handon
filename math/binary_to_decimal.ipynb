{
 "cells": [
  {
   "cell_type": "code",
   "execution_count": 3,
   "metadata": {},
   "outputs": [
    {
     "name": "stdout",
     "output_type": "stream",
     "text": [
      "Enter the binary number 10101010101\n",
      "The decimal number is 1365\n"
     ]
    }
   ],
   "source": [
    "# Write a Python program to convert a binary number to decimal number.\n",
    "\n",
    "binary = list(input('Enter the binary number '))\n",
    "decimal = 0\n",
    "\n",
    "for i in range(len(binary)):\n",
    "    digit = binary.pop()\n",
    "    if digit == '1':\n",
    "        decimal = decimal + pow(2,i)\n",
    "\n",
    "print('The decimal number is',decimal)"
   ]
  },
  {
   "cell_type": "code",
   "execution_count": null,
   "metadata": {},
   "outputs": [],
   "source": []
  }
 ],
 "metadata": {
  "kernelspec": {
   "display_name": "Python 3",
   "language": "python",
   "name": "python3"
  },
  "language_info": {
   "codemirror_mode": {
    "name": "ipython",
    "version": 3
   },
   "file_extension": ".py",
   "mimetype": "text/x-python",
   "name": "python",
   "nbconvert_exporter": "python",
   "pygments_lexer": "ipython3",
   "version": "3.7.4"
  }
 },
 "nbformat": 4,
 "nbformat_minor": 2
}
