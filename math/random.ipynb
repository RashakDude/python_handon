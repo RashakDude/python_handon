{
 "cells": [
  {
   "cell_type": "code",
   "execution_count": 5,
   "metadata": {},
   "outputs": [
    {
     "name": "stdout",
     "output_type": "stream",
     "text": [
      "37 90 74 1 17 83 97 99 2 55 34 46 98 47 70 24 91 69 9 39 13 48 82 63 14 92 20 23 76 78 26 32 87 25 77 15 64 88 41 85 73 96 27 50 60 12 33 57 11 75 72 7 95 21 22 30 68 45 56 44 62 93 61 42 6 51 79 29 4 40 3 86 8 53 81 10 66 58 28 0 38 43 31 54 52 19 80 89 35 18 71 67 59 49 16 36 94 65 5 84 "
     ]
    }
   ],
   "source": [
    "#  Write a Python program to generate a series of unique random numbers\n",
    "\n",
    "import random\n",
    "\n",
    "series = list(range(100))\n",
    "random.shuffle(series)\n",
    "while series:\n",
    "    print(series.pop(),end=' ')"
   ]
  },
  {
   "cell_type": "code",
   "execution_count": null,
   "metadata": {},
   "outputs": [],
   "source": []
  }
 ],
 "metadata": {
  "kernelspec": {
   "display_name": "Python 3",
   "language": "python",
   "name": "python3"
  },
  "language_info": {
   "codemirror_mode": {
    "name": "ipython",
    "version": 3
   },
   "file_extension": ".py",
   "mimetype": "text/x-python",
   "name": "python",
   "nbconvert_exporter": "python",
   "pygments_lexer": "ipython3",
   "version": "3.7.4"
  }
 },
 "nbformat": 4,
 "nbformat_minor": 2
}
