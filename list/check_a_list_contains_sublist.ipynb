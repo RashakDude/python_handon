{
 "cells": [
  {
   "cell_type": "code",
   "execution_count": 2,
   "metadata": {},
   "outputs": [
    {
     "name": "stdout",
     "output_type": "stream",
     "text": [
      "True\n",
      "False\n"
     ]
    }
   ],
   "source": [
    "# Write a Python program to check whether a list contains a sublist.\n",
    "# Input\n",
    "# a = [2,4,3,5,7]\n",
    "# b = [4,3]\n",
    "# c = [3,7]\n",
    "# print(is_Sublist(a, b))\n",
    "# print(is_Sublist(a, c))\n",
    "# Output\n",
    "\n",
    "def is_Sublist(l, s):\n",
    "    sub_set = False\n",
    "    if s == []:\n",
    "        sub_set = True\n",
    "    elif s == l:\n",
    "        sub_set = True\n",
    "    elif len(s) > len(l):\n",
    "        sub_set = False\n",
    "\n",
    "    else:\n",
    "        for i in range(len(l)):\n",
    "            if l[i] == s[0]:\n",
    "                n = 1\n",
    "                while (n < len(s)) and (l[i+n] == s[n]):\n",
    "                    n += 1\n",
    "\n",
    "                if n == len(s):\n",
    "                    sub_set = True\n",
    "\n",
    "    return sub_set\n",
    "\n",
    "a = [2,4,3,5,7]\n",
    "b = [4,3]\n",
    "c = [3,7]\n",
    "print(is_Sublist(a, b))\n",
    "print(is_Sublist(a, c))"
   ]
  },
  {
   "cell_type": "code",
   "execution_count": null,
   "metadata": {},
   "outputs": [],
   "source": []
  }
 ],
 "metadata": {
  "kernelspec": {
   "display_name": "Python 3",
   "language": "python",
   "name": "python3"
  },
  "language_info": {
   "codemirror_mode": {
    "name": "ipython",
    "version": 3
   },
   "file_extension": ".py",
   "mimetype": "text/x-python",
   "name": "python",
   "nbconvert_exporter": "python",
   "pygments_lexer": "ipython3",
   "version": "3.7.4"
  }
 },
 "nbformat": 4,
 "nbformat_minor": 2
}
